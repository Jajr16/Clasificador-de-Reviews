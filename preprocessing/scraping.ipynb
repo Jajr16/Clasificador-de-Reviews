{
 "cells": [
  {
   "cell_type": "markdown",
   "metadata": {},
   "source": [
    "# Web Scraping required for subsequent sentiment analysis"
   ]
  },
  {
   "cell_type": "markdown",
   "metadata": {},
   "source": [
    "### Import of libraries"
   ]
  },
  {
   "cell_type": "code",
   "execution_count": 1,
   "metadata": {},
   "outputs": [],
   "source": [
    "from selenium import webdriver\n",
    "from selenium.webdriver.common.by import By\n",
    "from selenium.webdriver.support.ui import WebDriverWait\n",
    "from selenium.webdriver.support import expected_conditions as EC\n",
    "from selenium.common.exceptions import NoSuchElementException\n",
    "from bs4 import BeautifulSoup\n",
    "import time\n",
    "import boto3\n",
    "from csv import writer"
   ]
  },
  {
   "cell_type": "markdown",
   "metadata": {},
   "source": [
    "### Function necesary for build our own dataset"
   ]
  },
  {
   "cell_type": "code",
   "execution_count": null,
   "metadata": {},
   "outputs": [],
   "source": [
    "def build_csv(opiniones, stars):\n",
    "    \"\"\"\n",
    "        Construcción de csv (Dataset a utilizar)\n",
    "    \"\"\"\n",
    "\n",
    "    with open('E:\\Escritorio\\Semestres ESCOM\\Semestre 5 - ESCOM\\Lenguaje Natural\\TLN\\TLN\\static\\csv\\\\reviews.csv', \"a\", newline=\"\", encoding=\"utf-8\") as feelings:\n",
    "        for _, (opinion, star) in enumerate(zip(opiniones, stars)):\n",
    "                        \n",
    "            opinion_text = opinion.strip()\n",
    "            star_text = star.text.strip().split()[0]\n",
    "\n",
    "            new_data = writer(feelings)\n",
    "            new_data.writerow([star_text, opinion_text])\n",
    "#2496\n",
    "        # Cerrar el archivo\n",
    "        feelings.close()"
   ]
  }
 ],
 "metadata": {
  "kernelspec": {
   "display_name": "Python 3",
   "language": "python",
   "name": "python3"
  },
  "language_info": {
   "codemirror_mode": {
    "name": "ipython",
    "version": 3
   },
   "file_extension": ".py",
   "mimetype": "text/x-python",
   "name": "python",
   "nbconvert_exporter": "python",
   "pygments_lexer": "ipython3",
   "version": "3.11.7"
  }
 },
 "nbformat": 4,
 "nbformat_minor": 2
}
